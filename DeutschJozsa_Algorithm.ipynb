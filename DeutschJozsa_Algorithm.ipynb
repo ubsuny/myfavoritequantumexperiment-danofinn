{
 "cells": [
  {
   "cell_type": "code",
   "execution_count": 17,
   "id": "chronic-mercy",
   "metadata": {},
   "outputs": [],
   "source": [
    "from qiskit import QuantumRegister, ClassicalRegister, QuantumCircuit, transpile\n",
    "from numpy import pi\n",
    "\n",
    "from qiskit.providers.aer import QasmSimulator\n",
    "from qiskit.visualization import plot_histogram"
   ]
  },
  {
   "cell_type": "markdown",
   "id": "perceived-space",
   "metadata": {},
   "source": [
    "### Balanced Circuit"
   ]
  },
  {
   "cell_type": "code",
   "execution_count": 18,
   "id": "super-settle",
   "metadata": {},
   "outputs": [
    {
     "data": {
      "text/html": [
       "<pre style=\"word-wrap: normal;white-space: pre;background: #fff0;line-height: 1.1;font-family: &quot;Courier New&quot;,Courier,monospace\">          ┌───┐┌───┐┌───┐     ┌─┐           \n",
       "q_0: ─|0>─┤ H ├┤ Z ├┤ H ├─────┤M├───────────\n",
       "          ├───┤└───┘└───┘┌───┐└╥┘     ┌─┐   \n",
       "q_1: ─|0>─┤ H ├───────■──┤ H ├─╫──────┤M├───\n",
       "          ├───┤┌───┐┌─┴─┐├───┤ ║ ┌───┐└╥┘┌─┐\n",
       "q_2: ─|0>─┤ H ├┤ H ├┤ X ├┤ H ├─╫─┤ H ├─╫─┤M├\n",
       "          └───┘└───┘└───┘└───┘ ║ └───┘ ║ └╥┘\n",
       "c: 3/══════════════════════════╩═══════╩══╩═\n",
       "                               0       1  2 </pre>"
      ],
      "text/plain": [
       "          ┌───┐┌───┐┌───┐     ┌─┐           \n",
       "q_0: ─|0>─┤ H ├┤ Z ├┤ H ├─────┤M├───────────\n",
       "          ├───┤└───┘└───┘┌───┐└╥┘     ┌─┐   \n",
       "q_1: ─|0>─┤ H ├───────■──┤ H ├─╫──────┤M├───\n",
       "          ├───┤┌───┐┌─┴─┐├───┤ ║ ┌───┐└╥┘┌─┐\n",
       "q_2: ─|0>─┤ H ├┤ H ├┤ X ├┤ H ├─╫─┤ H ├─╫─┤M├\n",
       "          └───┘└───┘└───┘└───┘ ║ └───┘ ║ └╥┘\n",
       "c: 3/══════════════════════════╩═══════╩══╩═\n",
       "                               0       1  2 "
      ]
     },
     "execution_count": 18,
     "metadata": {},
     "output_type": "execute_result"
    }
   ],
   "source": [
    "qreg_q = QuantumRegister(3, 'q')\n",
    "creg_c = ClassicalRegister(3, 'c')\n",
    "circuit = QuantumCircuit(qreg_q, creg_c)\n",
    "\n",
    "circuit.reset(qreg_q[0])\n",
    "circuit.reset(qreg_q[1])\n",
    "circuit.reset(qreg_q[2])\n",
    "circuit.h(qreg_q[0])\n",
    "circuit.h(qreg_q[1])\n",
    "circuit.h(qreg_q[2])\n",
    "circuit.z(qreg_q[0])\n",
    "circuit.h(qreg_q[2])\n",
    "circuit.h(qreg_q[0])\n",
    "circuit.cx(qreg_q[1], qreg_q[2])\n",
    "circuit.h(qreg_q[1])\n",
    "circuit.h(qreg_q[2])\n",
    "circuit.h(qreg_q[2])\n",
    "circuit.measure(qreg_q[0], creg_c[0])\n",
    "circuit.measure(qreg_q[1], creg_c[1])\n",
    "circuit.measure(qreg_q[2], creg_c[2])\n",
    "\n",
    "circuit.draw()"
   ]
  },
  {
   "cell_type": "code",
   "execution_count": 19,
   "id": "exposed-words",
   "metadata": {},
   "outputs": [
    {
     "name": "stdout",
     "output_type": "stream",
     "text": [
      "OPENQASM 2.0;\n",
      "include \"qelib1.inc\";\n",
      "qreg q[3];\n",
      "creg c[3];\n",
      "u3(pi,0,-pi) q[0];\n",
      "h q[1];\n",
      "cx q[1],q[2];\n",
      "h q[1];\n",
      "measure q[0] -> c[0];\n",
      "measure q[1] -> c[1];\n",
      "measure q[2] -> c[2];\n",
      "\n"
     ]
    }
   ],
   "source": [
    "# Use Aer's qasm_simulator\n",
    "simulator = QasmSimulator()\n",
    "\n",
    "# transpile the circuit down to low-level QASM instructions\n",
    "# supported by the backend (not needed for simple circuits)\n",
    "# https://en.wikipedia.org/wiki/Source-to-source_compiler\n",
    "compiled_circuit = transpile(circuit, simulator)\n",
    "\n",
    "# print low level code: open Quantum Assembler\n",
    "print(compiled_circuit.qasm())"
   ]
  },
  {
   "cell_type": "code",
   "execution_count": 20,
   "id": "level-puzzle",
   "metadata": {},
   "outputs": [
    {
     "name": "stdout",
     "output_type": "stream",
     "text": [
      "\n",
      "Total count for 00 and 11 are: {'111': 260, '001': 256, '011': 244, '101': 240}\n"
     ]
    }
   ],
   "source": [
    "# Execute the circuit on the qasm simulator\n",
    "job = simulator.run(compiled_circuit, shots=1000)\n",
    "\n",
    "# Grab results from the job\n",
    "result = job.result()\n",
    "\n",
    "# Returns counts\n",
    "counts = result.get_counts(circuit)\n",
    "print(\"\\nTotal count for 00 and 11 are:\",counts)"
   ]
  },
  {
   "cell_type": "code",
   "execution_count": 21,
   "id": "published-marketplace",
   "metadata": {},
   "outputs": [
    {
     "data": {
      "image/png": "[encoded data removed]",
      "text/plain": [
       "<Figure size 504x360 with 1 Axes>"
      ]
     },
     "execution_count": 21,
     "metadata": {},
     "output_type": "execute_result"
    }
   ],
   "source": [
    "# Plot a histogram\n",
    "plot_histogram(counts)"
   ]
  },
  {
   "cell_type": "markdown",
   "id": "understood-envelope",
   "metadata": {},
   "source": [
    "### Constant Circuit"
   ]
  },
  {
   "cell_type": "code",
   "execution_count": 25,
   "id": "synthetic-blink",
   "metadata": {},
   "outputs": [
    {
     "data": {
      "text/html": [
       "<pre style=\"word-wrap: normal;white-space: pre;background: #fff0;line-height: 1.1;font-family: &quot;Courier New&quot;,Courier,monospace\">          ┌───┐┌───┐┌─┐      \n",
       "q_0: ─|0>─┤ H ├┤ H ├┤M├──────\n",
       "          ├───┤├───┤└╥┘┌─┐   \n",
       "q_1: ─|0>─┤ H ├┤ H ├─╫─┤M├───\n",
       "          ├───┤├───┤ ║ └╥┘┌─┐\n",
       "q_2: ─|0>─┤ H ├┤ H ├─╫──╫─┤M├\n",
       "          └───┘└───┘ ║  ║ └╥┘\n",
       "c: 3/════════════════╩══╩══╩═\n",
       "                     0  1  2 </pre>"
      ],
      "text/plain": [
       "          ┌───┐┌───┐┌─┐      \n",
       "q_0: ─|0>─┤ H ├┤ H ├┤M├──────\n",
       "          ├───┤├───┤└╥┘┌─┐   \n",
       "q_1: ─|0>─┤ H ├┤ H ├─╫─┤M├───\n",
       "          ├───┤├───┤ ║ └╥┘┌─┐\n",
       "q_2: ─|0>─┤ H ├┤ H ├─╫──╫─┤M├\n",
       "          └───┘└───┘ ║  ║ └╥┘\n",
       "c: 3/════════════════╩══╩══╩═\n",
       "                     0  1  2 "
      ]
     },
     "execution_count": 25,
     "metadata": {},
     "output_type": "execute_result"
    }
   ],
   "source": [
    "qreg_q = QuantumRegister(3, 'q')\n",
    "creg_c = ClassicalRegister(3, 'c')\n",
    "circuit = QuantumCircuit(qreg_q, creg_c)\n",
    "\n",
    "circuit.reset(qreg_q[0])\n",
    "circuit.reset(qreg_q[1])\n",
    "circuit.reset(qreg_q[2])\n",
    "circuit.h(qreg_q[0])\n",
    "circuit.h(qreg_q[0])\n",
    "circuit.h(qreg_q[1])\n",
    "circuit.h(qreg_q[1])\n",
    "circuit.h(qreg_q[2])\n",
    "circuit.h(qreg_q[2])\n",
    "circuit.measure(qreg_q[0], creg_c[0])\n",
    "circuit.measure(qreg_q[1], creg_c[1])\n",
    "circuit.measure(qreg_q[2], creg_c[2])\n",
    "\n",
    "circuit.draw()"
   ]
  },
  {
   "cell_type": "code",
   "execution_count": 26,
   "id": "applied-royalty",
   "metadata": {},
   "outputs": [
    {
     "name": "stdout",
     "output_type": "stream",
     "text": [
      "OPENQASM 2.0;\n",
      "include \"qelib1.inc\";\n",
      "qreg q[3];\n",
      "creg c[3];\n",
      "measure q[0] -> c[0];\n",
      "measure q[1] -> c[1];\n",
      "measure q[2] -> c[2];\n",
      "\n"
     ]
    }
   ],
   "source": [
    "# Use Aer's qasm_simulator\n",
    "simulator = QasmSimulator()\n",
    "\n",
    "# transpile the circuit down to low-level QASM instructions\n",
    "# supported by the backend (not needed for simple circuits)\n",
    "# https://en.wikipedia.org/wiki/Source-to-source_compiler\n",
    "compiled_circuit = transpile(circuit, simulator)\n",
    "\n",
    "# print low level code: open Quantum Assembler\n",
    "print(compiled_circuit.qasm())"
   ]
  },
  {
   "cell_type": "code",
   "execution_count": 27,
   "id": "separated-ivory",
   "metadata": {},
   "outputs": [
    {
     "name": "stdout",
     "output_type": "stream",
     "text": [
      "\n",
      "Total count for 00 and 11 are: {'000': 1000}\n"
     ]
    }
   ],
   "source": [
    "# Execute the circuit on the qasm simulator\n",
    "job = simulator.run(compiled_circuit, shots=1000)\n",
    "\n",
    "# Grab results from the job\n",
    "result = job.result()\n",
    "\n",
    "# Returns counts\n",
    "counts = result.get_counts(circuit)\n",
    "print(\"\\nTotal count for 00 and 11 are:\",counts)"
   ]
  },
  {
   "cell_type": "code",
   "execution_count": 28,
   "id": "appreciated-bibliography",
   "metadata": {},
   "outputs": [
    {
     "data": {
      "image/png": "[encoded data removed]",
      "text/plain": [
       "<Figure size 504x360 with 1 Axes>"
      ]
     },
     "execution_count": 28,
     "metadata": {},
     "output_type": "execute_result"
    }
   ],
   "source": [
    "# Plot a histogram\n",
    "plot_histogram(counts)"
   ]
  },
  {
   "cell_type": "code",
   "execution_count": null,
   "id": "dying-relationship",
   "metadata": {},
   "outputs": [],
   "source": []
  }
 ],
 "metadata": {
  "kernelspec": {
   "display_name": "Python 3",
   "language": "python",
   "name": "python3"
  },
  "language_info": {
   "codemirror_mode": {
    "name": "ipython",
    "version": 3
   },
   "file_extension": ".py",
   "mimetype": "text/x-python",
   "name": "python",
   "nbconvert_exporter": "python",
   "pygments_lexer": "ipython3",
   "version": "3.9.2"
  }
 },
 "nbformat": 4,
 "nbformat_minor": 5
}
