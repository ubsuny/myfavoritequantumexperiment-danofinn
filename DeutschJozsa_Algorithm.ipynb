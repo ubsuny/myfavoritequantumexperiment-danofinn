{
 "cells": [
  {
   "cell_type": "markdown",
   "id": "employed-allen",
   "metadata": {},
   "source": [
    "# The Deutsch Jozsa Algorithm\n",
    "\n",
    "First introduced by David Deutsch and Richard Jozsa in 1992, the Deutsch-Jozsa algorithm is a deterministic quantum algorithm.  Although its has very little practical use, the algorithm was one of the first examples of a quantum algorithm that is significantly faster than any given classical algorithm applied to the same problem.\n",
    "\n",
    "## Problem Statement\n",
    "\n",
    "We are given a hidden Boolean function $f$, also called an *Oracle*, which takes a string of bits as an input and returns either 0 or 1.  That is,\n",
    "$$\n",
    "f(\\lbrace x_0, x_1, x_2, ..., x_n \\rbrace) \\rightarrow 0 \\; or \\; 1.\n",
    "$$\n",
    "Furthermore, we are told that the function is either a **constant** function that returns the same output (0 or 1) for any given binary input or a **balanced** function that returns the 0 and 1 for exactly half of the inputs each.  The goal of the problem, then, is to determine whether the function is **constant** or **balanaced** with as few calculations as possible.\n",
    "\n",
    "## Classical Solution\n",
    "\n",
    "Consider the problem in the case where $n=3$.  This means our inputs are, \n",
    "\n",
    "$$\n",
    "\\begin{aligned}\n",
    "f(\\lbrace 0,0,0 \\rbrace) & \\rightarrow ?, \\\\\n",
    "f(\\lbrace 1,0,0 \\rbrace) & \\rightarrow ?, \\\\\n",
    "f(\\lbrace 0,1,0 \\rbrace) & \\rightarrow ?, \\\\\n",
    "f(\\lbrace 1,1,0 \\rbrace) & \\rightarrow ?, \\\\\n",
    "f(\\lbrace 0,0,1 \\rbrace) & \\rightarrow ?, \\\\\n",
    "f(\\lbrace 1,0,1 \\rbrace) & \\rightarrow ?, \\\\\n",
    "f(\\lbrace 0,1,1 \\rbrace) & \\rightarrow ?, \\\\\n",
    "f(\\lbrace 1,1,1 \\rbrace) & \\rightarrow ?. \\\\\n",
    "\\end{aligned}\n",
    "$$\n",
    "\n",
    "To determine whether this function is **constant** or **balanaced** we must evaluate the function for the given inputs.  The best case scenario occurs when the first two evaluations return different values,\n",
    "\n",
    "$$\n",
    "\\begin{aligned}\n",
    "f(\\lbrace 0,0,0 \\rbrace) & \\rightarrow 0, \\\\\n",
    "f(\\lbrace 1,0,0 \\rbrace) & \\rightarrow 1, \\\\\n",
    "\\end{aligned}\n",
    "$$\n",
    "\n",
    "or vice versa, implying the function is **balanced**.  However, if the function is **constant**, half of the inputs plus one, or $2^{n-1}+1$, must be evaluated to verify the function type,\n",
    "\n",
    "$$\n",
    "\\begin{aligned}\n",
    "f(\\lbrace 0,0,0 \\rbrace) & \\rightarrow 0, \\\\\n",
    "f(\\lbrace 1,0,0 \\rbrace) & \\rightarrow 0, \\\\\n",
    "f(\\lbrace 0,1,0 \\rbrace) & \\rightarrow 0, \\\\\n",
    "f(\\lbrace 1,1,0 \\rbrace) & \\rightarrow 0, \\\\\n",
    "f(\\lbrace 0,0,1 \\rbrace) & \\rightarrow 0, \\\\\n",
    "f(\\lbrace 1,0,1 \\rbrace) & \\rightarrow ?, \\\\\n",
    "f(\\lbrace 0,1,1 \\rbrace) & \\rightarrow ?, \\\\\n",
    "f(\\lbrace 1,1,1 \\rbrace) & \\rightarrow ?. \\\\\n",
    "\\end{aligned}\n",
    "$$\n",
    "Probablistically, it is unlikely that if $2^{n-1}$ evaluations all return 0, the $2^{n-1}+1$th evaluation will be 1.  The probability that the function is constant as a function of number of evaluations $k$ can be described by the equation,\n",
    "\n",
    "$$\n",
    "P_{constant}(k) = 1 - \\frac{1}{2^{k-1}} \\;\\; \\text{for} \\; 1 < k < 2^{n-1}\n",
    "$$\n",
    "\n",
    "We can therefore trunctate the number of evaluations used by the algorithm to get a determination with some reasonable percent confidence, but to obtain a determination with 100% confidence, it is required that $k=2^{n-1}+1$.\n",
    "\n",
    "\n",
    "## Quantum Solution\n",
    "\n",
    "Using the Deutsch-Josza algorithm, a determination can be made with 100% confidence after only one evaluation of the oracle function $f(x)$.  The general form of the algorithm is as follows,\n",
    "\n",
    "1. Prepare two quantum registers. The first is an  n-qubit register initialised to $|0\\rangle$, and the second is a one-qubit register initialised to $|1\\rangle$:\n",
    "$$\n",
    "|\\psi_0 \\rangle = |0\\rangle^{\\otimes n} |1\\rangle\n",
    "$$\n",
    "\n",
    "\n",
    "2. Apply a Hadamard gate to each qubit:\n",
    "$$\n",
    "|\\psi_1 \\rangle = \\frac{1}{\\sqrt{2^{n+1}}} \\sum^{2^n -1}_{x=0} |x\\rangle (|0\\rangle - |1\\rangle)\n",
    "$$\n",
    "\n",
    "\n",
    "3. Apple the quantum oracle $|x\\rangle |y\\rangle$ to $|x\\rangle |y \\oplus f(x)\\rangle$:\\\n",
    "$$\n",
    "\\begin{aligned}\n",
    "|\\psi_2 \\rangle &= \\frac{1}{\\sqrt{2^{n+1}}} \\sum^{2^n -1}_{x=0} |x\\rangle (|f(x)\\rangle - |1 \\oplus f(x)\\rangle) \\\\\n",
    "&= \\frac{1}{\\sqrt{2^{n+1}}} \\sum^{2^n -1}_{x=0} (-1)^{f(x)} |x\\rangle (|0\\rangle - |1\\rangle)\n",
    "\\end{aligned}\n",
    "$$\\\n",
    "since for each $x$, $f(x)$ is either 0 or 1.\n",
    "\n",
    "\n",
    "4. Ignore the second single qubit register and apple Hadamard gate to each qubit in the first register:\\\n",
    "$$\n",
    "\\begin{aligned}\n",
    "|\\psi_3 \\rangle &= \\frac{1}{2^{n}} \\sum^{2^n -1}_{x=0} (-1)^{f(x)} \\left[ \\sum^{2^n -1}_{y=0} (-1)^{x \\cdot y} |y\\rangle \\right] \\\\\n",
    "&= \\frac{1}{2^{n}} \\sum^{2^n -1}_{y=0} \\left[ \\sum^{2^n -1}_{x=0}  (-1)^{f(x)} (-1)^{x \\cdot y} \\right] |y\\rangle\n",
    "\\end{aligned}\n",
    "$$\\\n",
    "where $x \\cdot y = x_0 y_0 \\oplus x_1 y_1 \\oplus ... \\oplus x_{n-1} y_{n-1}$ is the sum of the bitwise product.\n",
    "\n",
    "\n",
    "5. Measure the first register.  The probability of measuring $\\vert 0 \\rangle ^{\\otimes n} = \\lvert \\frac{1}{\\sqrt{2^n}}\\sum_{x=0}^{2^n-1}(-1)^{f(x)} \\rvert^2$, which evaluates to 1 if $f(x)$ is constant and 0 if $f(x)$ is balanced.\n",
    "\n",
    "The algorithm can be more easily visualized with the quantum ciruit shown below.\n",
    "\n",
    "<img src=\"Images/General_DJ_3.png\" alt=\"DJ_General\" width=\"600\"/>\n",
    "\n",
    "\n",
    "\n",
    "## Double Slit Analogy\n",
    "\n",
    "\n",
    "<img src=\"Images/DoubleSlit.png\" alt=\"DoubleSlit\" width=\"400\"/>\n",
    "\n",
    "\n",
    "To understand why this algorithm works, we can look at a classic quantum experiment, the double slit experiment.  As shown above, a particle with wave-like properties can travel two or more paths from the source simultaneously.  The probability of observing a particle will be concentrated at those detectors where most of the incoming waves arrive with the same phase.  More specifically, imagine that we have $2^n$ detectors and $2^n$ possible paths from the source to each of the detectors.  The paths will be labeled with the n-bit strings $x$ and the detectors with the n-bit strings $y$.\n",
    "\n",
    "The phase accumulated along a path $x$ to a detector $y$ can be described by the function,\n",
    "\n",
    "$$\n",
    "C (-1)^{f(x) + x \\cdot y},\n",
    "$$\n",
    "\n",
    "where $C$ is a normalization constant.  The probability of observing a particle at detector $y$ can be calculated by summing the amplitudes of all possible paths $x$ leading to detector $y$ and taking the absolute value squared,\n",
    "\n",
    "$$\n",
    "P(y) = | \\sum_{x} C (-1)^{f(x) + x \\cdot y} |^2\n",
    "$$\n",
    "\n",
    "To obtain the normalization constant, we sum the probability for all possibly detectors $y$ and set that equal to 1, as the probability of observing the particle at any detector must be 1,\n",
    "\n",
    "$$\n",
    "\\sum_y P(y) = \\sum_y | \\sum_{x} C (-1)^{f(x) + x \\cdot y} |^2 = 1.\n",
    "$$\n",
    "\n",
    "Therefore, the normalization constant is given by $C=2^{-n}$.\n",
    "\n",
    "Let us now consider the probability of observing a particle at the detector $y=0^n$ (a string of all zeroes).  Plugging $y$ into the probability function, we obtain,\n",
    "\n",
    "$$\n",
    "P(0^n) = | 2^{-n} \\sum_{x} (-1)^{f(x)} |^2.\n",
    "$$\n",
    "\n",
    "In the case that the oracle function $f(x)$ is constant, i.e. $f(x)=c$ , the equation simplifies to,\n",
    "\n",
    "$$\n",
    "P(0^n) = | (-1)^{c} |^2,\n",
    "$$\n",
    "\n",
    "and we get $P(0^n) = 1$. However, if the oracle function $f(x)$ is a balanced function, all of the terms in the sum over $x$ cancel each other out and we get $P(0^n) = 0$.  Thus, we can determine whether the oracle function is constant or balanced by running this experiment just once.\n"
   ]
  },
  {
   "cell_type": "markdown",
   "id": "respective-share",
   "metadata": {},
   "source": [
    "## Implementation\n",
    "\n",
    "We can use Qiskit to build and test various quantum circuits."
   ]
  },
  {
   "cell_type": "code",
   "execution_count": 35,
   "id": "understood-grant",
   "metadata": {},
   "outputs": [],
   "source": [
    "from qiskit import QuantumRegister, ClassicalRegister, QuantumCircuit, transpile\n",
    "from numpy import pi\n",
    "\n",
    "from qiskit.providers.aer import QasmSimulator\n",
    "from qiskit.visualization import plot_histogram\n",
    "from qiskit import BasicAer, execute\n",
    "from qiskit.visualization import plot_state_city, plot_bloch_multivector\n",
    "from qiskit.visualization import plot_state_paulivec, plot_state_hinton\n",
    "from qiskit.visualization import plot_state_qsphere"
   ]
  },
  {
   "cell_type": "code",
   "execution_count": 36,
   "id": "built-black",
   "metadata": {},
   "outputs": [],
   "source": [
    "nshots = 5000"
   ]
  },
  {
   "cell_type": "markdown",
   "id": "graduate-defense",
   "metadata": {},
   "source": [
    "### Constant Circuit\n",
    "\n",
    "The simplest constant oracle is: \n",
    "\n",
    "1. if $f(x) = 0$, then apply the $I$ gate to the qubit in register 2,\n",
    "2. if $f(x) = 1$, then apply the $X$ gate to the qubit in register 2.\n"
   ]
  },
  {
   "cell_type": "code",
   "execution_count": 43,
   "id": "yellow-response",
   "metadata": {},
   "outputs": [
    {
     "data": {
      "text/html": [
       "<pre style=\"word-wrap: normal;white-space: pre;background: #fff0;line-height: 1.1;font-family: &quot;Courier New&quot;,Courier,monospace\">          ┌───┐ ░  ░ ┌───┐┌─┐      \n",
       "q_0: ─|0>─┤ H ├─░──░─┤ H ├┤M├──────\n",
       "          ├───┤ ░  ░ ├───┤└╥┘┌─┐   \n",
       "q_1: ─|0>─┤ H ├─░──░─┤ H ├─╫─┤M├───\n",
       "          ├───┤ ░  ░ ├───┤ ║ └╥┘┌─┐\n",
       "q_2: ─|0>─┤ H ├─░──░─┤ H ├─╫──╫─┤M├\n",
       "     ┌───┐├───┤ ░  ░ └───┘ ║  ║ └╥┘\n",
       "q_3: ┤ X ├┤ H ├─░──░───────╫──╫──╫─\n",
       "     └───┘└───┘ ░  ░       ║  ║  ║ \n",
       "c: 4/══════════════════════╩══╩══╩═\n",
       "                           0  1  2 </pre>"
      ],
      "text/plain": [
       "          ┌───┐ ░  ░ ┌───┐┌─┐      \n",
       "q_0: ─|0>─┤ H ├─░──░─┤ H ├┤M├──────\n",
       "          ├───┤ ░  ░ ├───┤└╥┘┌─┐   \n",
       "q_1: ─|0>─┤ H ├─░──░─┤ H ├─╫─┤M├───\n",
       "          ├───┤ ░  ░ ├───┤ ║ └╥┘┌─┐\n",
       "q_2: ─|0>─┤ H ├─░──░─┤ H ├─╫──╫─┤M├\n",
       "     ┌───┐├───┤ ░  ░ └───┘ ║  ║ └╥┘\n",
       "q_3: ┤ X ├┤ H ├─░──░───────╫──╫──╫─\n",
       "     └───┘└───┘ ░  ░       ║  ║  ║ \n",
       "c: 4/══════════════════════╩══╩══╩═\n",
       "                           0  1  2 "
      ]
     },
     "execution_count": 43,
     "metadata": {},
     "output_type": "execute_result"
    }
   ],
   "source": [
    "qreg_c = QuantumRegister(4, 'q')\n",
    "creg_c = ClassicalRegister(4, 'c')\n",
    "circuit_c = QuantumCircuit(qreg_c, creg_c)\n",
    "\n",
    "circuit_c.reset(qreg_c[0])\n",
    "circuit_c.reset(qreg_c[1])\n",
    "circuit_c.reset(qreg_c[2])\n",
    "circuit_c.h(qreg_c[0])\n",
    "circuit_c.h(qreg_c[1])\n",
    "circuit_c.h(qreg_c[2])\n",
    "circuit_c.x(qreg_c[3])\n",
    "circuit_c.h(qreg_c[3])\n",
    "\n",
    "circuit_c.barrier()\n",
    "circuit_c.barrier()\n",
    "\n",
    "circuit_c.h(qreg_c[0])\n",
    "circuit_c.h(qreg_c[1])\n",
    "circuit_c.h(qreg_c[2])\n",
    "circuit_c.measure(qreg_c[0], creg_c[0])\n",
    "circuit_c.measure(qreg_c[1], creg_c[1])\n",
    "circuit_c.measure(qreg_c[2], creg_c[2])\n",
    "\n",
    "circuit_c.draw()"
   ]
  },
  {
   "cell_type": "code",
   "execution_count": 44,
   "id": "challenging-silver",
   "metadata": {},
   "outputs": [
    {
     "name": "stdout",
     "output_type": "stream",
     "text": [
      "\n",
      "Total count for 00 and 11 are: {'0000': 5000}\n"
     ]
    },
    {
     "data": {
      "image/png": "[encoded data removed]",
      "text/plain": [
       "<Figure size 504x360 with 1 Axes>"
      ]
     },
     "execution_count": 44,
     "metadata": {},
     "output_type": "execute_result"
    }
   ],
   "source": [
    "# Use Aer's qasm_simulator\n",
    "simulator_c = QasmSimulator()\n",
    "\n",
    "# transpile the circuit down to low-level QASM instructions\n",
    "# supported by the backend (not needed for simple circuits)\n",
    "compiled_circuit_c = transpile(circuit_c, simulator_c)\n",
    "\n",
    "# Execute the circuit on the qasm simulator\n",
    "job_c = simulator_c.run(compiled_circuit_c, shots=nshots)\n",
    "\n",
    "# Grab results from the job\n",
    "result_c = job_c.result()\n",
    "\n",
    "# Returns counts\n",
    "counts_c = result_c.get_counts(circuit_c)\n",
    "print(\"\\nTotal count for 00 and 11 are:\",counts_c)\n",
    "\n",
    "# Plot a histogram\n",
    "plot_histogram(counts_c)"
   ]
  },
  {
   "cell_type": "markdown",
   "id": "modern-relevance",
   "metadata": {},
   "source": [
    "#### Comments \n",
    "\n",
    "As we expected, with the constant oracle inside the Deutsch-Josza algorithm the probability of measuring the input bit string is 100%.  "
   ]
  },
  {
   "cell_type": "markdown",
   "id": "flush-jason",
   "metadata": {},
   "source": [
    "### Balanced Circuit\n",
    "\n",
    "Building a balanced circuit is more difficult.  We can create a balanced oracle by performing CNOTs with each input as the control and the output but as the target.  If desired, to change the binary input we can wrap the qubits in X-gates."
   ]
  },
  {
   "cell_type": "code",
   "execution_count": 58,
   "id": "appointed-foundation",
   "metadata": {},
   "outputs": [
    {
     "data": {
      "text/html": [
       "<pre style=\"word-wrap: normal;white-space: pre;background: #fff0;line-height: 1.1;font-family: &quot;Courier New&quot;,Courier,monospace\">     ┌───┐      ░                 ░ ┌───┐┌─┐      \n",
       "q_0: ┤ H ├──────░───■─────────────░─┤ H ├┤M├──────\n",
       "     ├───┤      ░   │             ░ ├───┤└╥┘┌─┐   \n",
       "q_1: ┤ H ├──────░───┼────■────────░─┤ H ├─╫─┤M├───\n",
       "     ├───┤      ░   │    │        ░ ├───┤ ║ └╥┘┌─┐\n",
       "q_2: ┤ H ├──────░───┼────┼────■───░─┤ H ├─╫──╫─┤M├\n",
       "     ├───┤┌───┐ ░ ┌─┴─┐┌─┴─┐┌─┴─┐ ░ └───┘ ║  ║ └╥┘\n",
       "q_3: ┤ X ├┤ H ├─░─┤ X ├┤ X ├┤ X ├─░───────╫──╫──╫─\n",
       "     └───┘└───┘ ░ └───┘└───┘└───┘ ░       ║  ║  ║ \n",
       "c: 4/═════════════════════════════════════╩══╩══╩═\n",
       "                                          0  1  2 </pre>"
      ],
      "text/plain": [
       "     ┌───┐      ░                 ░ ┌───┐┌─┐      \n",
       "q_0: ┤ H ├──────░───■─────────────░─┤ H ├┤M├──────\n",
       "     ├───┤      ░   │             ░ ├───┤└╥┘┌─┐   \n",
       "q_1: ┤ H ├──────░───┼────■────────░─┤ H ├─╫─┤M├───\n",
       "     ├───┤      ░   │    │        ░ ├───┤ ║ └╥┘┌─┐\n",
       "q_2: ┤ H ├──────░───┼────┼────■───░─┤ H ├─╫──╫─┤M├\n",
       "     ├───┤┌───┐ ░ ┌─┴─┐┌─┴─┐┌─┴─┐ ░ └───┘ ║  ║ └╥┘\n",
       "q_3: ┤ X ├┤ H ├─░─┤ X ├┤ X ├┤ X ├─░───────╫──╫──╫─\n",
       "     └───┘└───┘ ░ └───┘└───┘└───┘ ░       ║  ║  ║ \n",
       "c: 4/═════════════════════════════════════╩══╩══╩═\n",
       "                                          0  1  2 "
      ]
     },
     "execution_count": 58,
     "metadata": {},
     "output_type": "execute_result"
    }
   ],
   "source": [
    "qreg_b = QuantumRegister(4, 'q')\n",
    "creg_b = ClassicalRegister(4, 'c')\n",
    "circuit_b = QuantumCircuit(qreg_b, creg_b)\n",
    "\n",
    "circuit_b.h(qreg_b[0])\n",
    "circuit_b.h(qreg_b[1])\n",
    "circuit_b.h(qreg_b[2])\n",
    "circuit_b.x(qreg_b[3])\n",
    "\n",
    "circuit_b.h(qreg_b[3])\n",
    "\n",
    "circuit_b.barrier()\n",
    "\n",
    "#circuit_b.x(qreg_b[0])\n",
    "#circuit_b.x(qreg_b[2])\n",
    "circuit_b.cx(qreg_b[0],qreg_b[3])\n",
    "circuit_b.cx(qreg_b[1],qreg_b[3])\n",
    "circuit_b.cx(qreg_b[2],qreg_b[3])\n",
    "#circuit_b.x(qreg_b[0])\n",
    "#circuit_b.x(qreg_b[2])\n",
    "\n",
    "circuit_b.barrier()\n",
    "\n",
    "circuit_b.h(qreg_b[1])\n",
    "circuit_b.h(qreg_b[0])\n",
    "circuit_b.h(qreg_b[2])\n",
    "\n",
    "circuit_b.measure(qreg_b[0], creg_b[0])\n",
    "circuit_b.measure(qreg_b[1], creg_b[1])\n",
    "circuit_b.measure(qreg_b[2], creg_b[2])\n",
    "\n",
    "\n",
    "circuit_b.draw()"
   ]
  },
  {
   "cell_type": "code",
   "execution_count": 56,
   "id": "novel-router",
   "metadata": {},
   "outputs": [
    {
     "name": "stdout",
     "output_type": "stream",
     "text": [
      "\n",
      "Total count for 00 and 11 are: {'0111': 5000}\n"
     ]
    },
    {
     "data": {
      "image/png": "[encoded data removed]",
      "text/plain": [
       "<Figure size 504x360 with 1 Axes>"
      ]
     },
     "execution_count": 56,
     "metadata": {},
     "output_type": "execute_result"
    }
   ],
   "source": [
    "# Use Aer's qasm_simulator\n",
    "simulator_b = QasmSimulator()\n",
    "\n",
    "# transpile the circuit down to low-level QASM instructions\n",
    "# supported by the backend (not needed for simple circuits)\n",
    "# https://en.wikipedia.org/wiki/Source-to-source_compiler\n",
    "compiled_circuit_b = transpile(circuit_b, simulator_b)\n",
    "\n",
    "# Execute the circuit on the qasm simulator\n",
    "job_b = simulator_b.run(compiled_circuit_b, shots=nshots)\n",
    "\n",
    "# Grab results from the job\n",
    "result_b = job_b.result()\n",
    "\n",
    "# Returns counts\n",
    "counts_b = result_b.get_counts(circuit_b)\n",
    "print(\"\\nTotal count for 00 and 11 are:\",counts_b)\n",
    "\n",
    "# Plot a histogram\n",
    "plot_histogram(counts_b)"
   ]
  },
  {
   "cell_type": "markdown",
   "id": "introductory-value",
   "metadata": {},
   "source": [
    "### Comments\n",
    "\n",
    "Applying the Deutsch-Josza algorithm to a balanced oracle now returns a 0% chance of measuring the input zero state $|0,0,...,0\\rangle$.  Additionally, several different input strings (1,0,1), (0,0,1), etc. were tested and all produced the same result.  Therefore, we have shown that the Deutsch-Josza algorithm can determine the function type of a given oracle in just one iteration."
   ]
  },
  {
   "cell_type": "markdown",
   "id": "determined-happiness",
   "metadata": {},
   "source": [
    "### References\n",
    "\n",
    "[1] David Deutsch and Richard Jozsa (1992). \"Rapid solutions of problems by quantum computation\". Proceedings of the Royal Society of London A. 439: 553–558. doi:10.1098/rspa.1992.0167.\n",
    "\n",
    "[2] https://quantum-computing.ibm.com/composer/docs/iqx/guide/deutsch-jozsa-algorithm\n",
    "\n",
    "[3] https://qiskit.org/textbook/ch-algorithms/deutsch-jozsa.html"
   ]
  }
 ],
 "metadata": {
  "kernelspec": {
   "display_name": "Python 3",
   "language": "python",
   "name": "python3"
  },
  "language_info": {
   "codemirror_mode": {
    "name": "ipython",
    "version": 3
   },
   "file_extension": ".py",
   "mimetype": "text/x-python",
   "name": "python",
   "nbconvert_exporter": "python",
   "pygments_lexer": "ipython3",
   "version": "3.9.2"
  }
 },
 "nbformat": 4,
 "nbformat_minor": 5
}
